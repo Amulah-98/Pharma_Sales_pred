{
 "cells": [
  {
   "cell_type": "code",
   "execution_count": 2,
   "id": "734efabf",
   "metadata": {},
   "outputs": [],
   "source": [
    "import seaborn as sns\n",
    "import matplotlib.pyplot as plt\n",
    "import csv\n",
    "import os\n",
    "import pandas as pd\n",
    "import numpy as np\n",
    "import pandas as pd\n",
    "import numpy as np\n",
    "import seaborn as sns\n",
    "import matplotlib.pyplot as plt\n",
    "from sklearn.impute import SimpleImputer\n",
    "from sklearn.decomposition import PCA\n",
    "from sklearn.preprocessing import OneHotEncoder, LabelEncoder\n",
    "from scipy import stats\n",
    "from scipy.stats import skew, norm\n",
    "from scipy.stats import boxcox_normmax\n",
    "from sklearn.cluster import KMeans\n",
    "import scipy.spatial.distance as dist\n",
    "from sklearn.ensemble import RandomForestRegressor, GradientBoostingRegressor\n",
    "from scipy import stats"
   ]
  },
  {
   "cell_type": "code",
   "execution_count": 2,
   "id": "b5b6da47",
   "metadata": {},
   "outputs": [
    {
     "name": "stderr",
     "output_type": "stream",
     "text": [
      "C:\\Users\\user\\anaconda3\\lib\\site-packages\\IPython\\core\\interactiveshell.py:3165: DtypeWarning: Columns (2) have mixed types.Specify dtype option on import or set low_memory=False.\n",
      "  has_raised = await self.run_ast_nodes(code_ast.body, cell_name,\n",
      "C:\\Users\\user\\anaconda3\\lib\\site-packages\\IPython\\core\\interactiveshell.py:3165: DtypeWarning: Columns (7) have mixed types.Specify dtype option on import or set low_memory=False.\n",
      "  has_raised = await self.run_ast_nodes(code_ast.body, cell_name,\n"
     ]
    }
   ],
   "source": [
    "import pandas as pd\n",
    "store = pd.read_csv('../data/store.csv')\n",
    "test_data = pd.read_csv('../data/test_data.csv')\n",
    "train_data = pd.read_csv('../data/train_data.csv')"
   ]
  },
  {
   "cell_type": "code",
   "execution_count": 3,
   "id": "5ebb3232",
   "metadata": {},
   "outputs": [
    {
     "data": {
      "text/html": [
       "<div>\n",
       "<style scoped>\n",
       "    .dataframe tbody tr th:only-of-type {\n",
       "        vertical-align: middle;\n",
       "    }\n",
       "\n",
       "    .dataframe tbody tr th {\n",
       "        vertical-align: top;\n",
       "    }\n",
       "\n",
       "    .dataframe thead th {\n",
       "        text-align: right;\n",
       "    }\n",
       "</style>\n",
       "<table border=\"1\" class=\"dataframe\">\n",
       "  <thead>\n",
       "    <tr style=\"text-align: right;\">\n",
       "      <th></th>\n",
       "      <th>Store</th>\n",
       "      <th>DayOfWeek</th>\n",
       "      <th>Date</th>\n",
       "      <th>Sales</th>\n",
       "      <th>Customers</th>\n",
       "      <th>Open</th>\n",
       "      <th>Promo</th>\n",
       "      <th>StateHoliday</th>\n",
       "      <th>SchoolHoliday</th>\n",
       "      <th>StoreType</th>\n",
       "      <th>Assortment</th>\n",
       "      <th>CompetitionDistance</th>\n",
       "      <th>CompetitionOpenSinceMonth</th>\n",
       "      <th>CompetitionOpenSinceYear</th>\n",
       "      <th>Promo2</th>\n",
       "      <th>Promo2SinceWeek</th>\n",
       "      <th>Promo2SinceYear</th>\n",
       "      <th>PromoInterval</th>\n",
       "      <th>month</th>\n",
       "      <th>day_of_month</th>\n",
       "    </tr>\n",
       "  </thead>\n",
       "  <tbody>\n",
       "    <tr>\n",
       "      <th>0</th>\n",
       "      <td>1</td>\n",
       "      <td>5</td>\n",
       "      <td>2015-07-31</td>\n",
       "      <td>5263.0</td>\n",
       "      <td>555.0</td>\n",
       "      <td>1</td>\n",
       "      <td>1</td>\n",
       "      <td>0</td>\n",
       "      <td>1</td>\n",
       "      <td>c</td>\n",
       "      <td>a</td>\n",
       "      <td>1270.0</td>\n",
       "      <td>9.0</td>\n",
       "      <td>2008.0</td>\n",
       "      <td>0</td>\n",
       "      <td>unknown</td>\n",
       "      <td>unknown</td>\n",
       "      <td>unknown</td>\n",
       "      <td>7</td>\n",
       "      <td>31</td>\n",
       "    </tr>\n",
       "    <tr>\n",
       "      <th>1</th>\n",
       "      <td>2</td>\n",
       "      <td>5</td>\n",
       "      <td>2015-07-31</td>\n",
       "      <td>6064.0</td>\n",
       "      <td>625.0</td>\n",
       "      <td>1</td>\n",
       "      <td>1</td>\n",
       "      <td>0</td>\n",
       "      <td>1</td>\n",
       "      <td>a</td>\n",
       "      <td>a</td>\n",
       "      <td>570.0</td>\n",
       "      <td>11.0</td>\n",
       "      <td>2007.0</td>\n",
       "      <td>1</td>\n",
       "      <td>13.0</td>\n",
       "      <td>2010.0</td>\n",
       "      <td>Jan,Apr,Jul,Oct</td>\n",
       "      <td>7</td>\n",
       "      <td>31</td>\n",
       "    </tr>\n",
       "    <tr>\n",
       "      <th>2</th>\n",
       "      <td>3</td>\n",
       "      <td>5</td>\n",
       "      <td>2015-07-31</td>\n",
       "      <td>8314.0</td>\n",
       "      <td>821.0</td>\n",
       "      <td>1</td>\n",
       "      <td>1</td>\n",
       "      <td>0</td>\n",
       "      <td>1</td>\n",
       "      <td>a</td>\n",
       "      <td>a</td>\n",
       "      <td>14130.0</td>\n",
       "      <td>12.0</td>\n",
       "      <td>2006.0</td>\n",
       "      <td>1</td>\n",
       "      <td>14.0</td>\n",
       "      <td>2011.0</td>\n",
       "      <td>Jan,Apr,Jul,Oct</td>\n",
       "      <td>7</td>\n",
       "      <td>31</td>\n",
       "    </tr>\n",
       "    <tr>\n",
       "      <th>3</th>\n",
       "      <td>4</td>\n",
       "      <td>5</td>\n",
       "      <td>2015-07-31</td>\n",
       "      <td>13995.0</td>\n",
       "      <td>609.0</td>\n",
       "      <td>1</td>\n",
       "      <td>1</td>\n",
       "      <td>0</td>\n",
       "      <td>1</td>\n",
       "      <td>c</td>\n",
       "      <td>c</td>\n",
       "      <td>620.0</td>\n",
       "      <td>9.0</td>\n",
       "      <td>2009.0</td>\n",
       "      <td>0</td>\n",
       "      <td>unknown</td>\n",
       "      <td>unknown</td>\n",
       "      <td>unknown</td>\n",
       "      <td>7</td>\n",
       "      <td>31</td>\n",
       "    </tr>\n",
       "    <tr>\n",
       "      <th>4</th>\n",
       "      <td>5</td>\n",
       "      <td>5</td>\n",
       "      <td>2015-07-31</td>\n",
       "      <td>4822.0</td>\n",
       "      <td>559.0</td>\n",
       "      <td>1</td>\n",
       "      <td>1</td>\n",
       "      <td>0</td>\n",
       "      <td>1</td>\n",
       "      <td>a</td>\n",
       "      <td>a</td>\n",
       "      <td>2330.0</td>\n",
       "      <td>4.0</td>\n",
       "      <td>2015.0</td>\n",
       "      <td>0</td>\n",
       "      <td>unknown</td>\n",
       "      <td>unknown</td>\n",
       "      <td>unknown</td>\n",
       "      <td>7</td>\n",
       "      <td>31</td>\n",
       "    </tr>\n",
       "  </tbody>\n",
       "</table>\n",
       "</div>"
      ],
      "text/plain": [
       "   Store  DayOfWeek        Date    Sales  Customers  Open  Promo StateHoliday  \\\n",
       "0      1          5  2015-07-31   5263.0      555.0     1      1            0   \n",
       "1      2          5  2015-07-31   6064.0      625.0     1      1            0   \n",
       "2      3          5  2015-07-31   8314.0      821.0     1      1            0   \n",
       "3      4          5  2015-07-31  13995.0      609.0     1      1            0   \n",
       "4      5          5  2015-07-31   4822.0      559.0     1      1            0   \n",
       "\n",
       "   SchoolHoliday StoreType Assortment  CompetitionDistance  \\\n",
       "0              1         c          a               1270.0   \n",
       "1              1         a          a                570.0   \n",
       "2              1         a          a              14130.0   \n",
       "3              1         c          c                620.0   \n",
       "4              1         a          a               2330.0   \n",
       "\n",
       "  CompetitionOpenSinceMonth CompetitionOpenSinceYear  Promo2 Promo2SinceWeek  \\\n",
       "0                       9.0                   2008.0       0         unknown   \n",
       "1                      11.0                   2007.0       1            13.0   \n",
       "2                      12.0                   2006.0       1            14.0   \n",
       "3                       9.0                   2009.0       0         unknown   \n",
       "4                       4.0                   2015.0       0         unknown   \n",
       "\n",
       "  Promo2SinceYear    PromoInterval  month  day_of_month  \n",
       "0         unknown          unknown      7            31  \n",
       "1          2010.0  Jan,Apr,Jul,Oct      7            31  \n",
       "2          2011.0  Jan,Apr,Jul,Oct      7            31  \n",
       "3         unknown          unknown      7            31  \n",
       "4         unknown          unknown      7            31  "
      ]
     },
     "execution_count": 3,
     "metadata": {},
     "output_type": "execute_result"
    }
   ],
   "source": [
    "train_data.head()"
   ]
  },
  {
   "cell_type": "code",
   "execution_count": 1,
   "id": "97e1b1ce",
   "metadata": {},
   "outputs": [
    {
     "ename": "NameError",
     "evalue": "name 'train_data' is not defined",
     "output_type": "error",
     "traceback": [
      "\u001b[1;31m---------------------------------------------------------------------------\u001b[0m",
      "\u001b[1;31mNameError\u001b[0m                                 Traceback (most recent call last)",
      "\u001b[1;32m<ipython-input-1-6d074a46b084>\u001b[0m in \u001b[0;36m<module>\u001b[1;34m\u001b[0m\n\u001b[0;32m      1\u001b[0m \u001b[1;31m#head\u001b[0m\u001b[1;33m\u001b[0m\u001b[1;33m\u001b[0m\u001b[1;33m\u001b[0m\u001b[0m\n\u001b[1;32m----> 2\u001b[1;33m \u001b[0mseason\u001b[0m \u001b[1;33m=\u001b[0m \u001b[0mtrain_data\u001b[0m\u001b[1;33m.\u001b[0m\u001b[0mfilter\u001b[0m\u001b[1;33m(\u001b[0m\u001b[1;33m[\u001b[0m\u001b[1;34m'Date'\u001b[0m\u001b[1;33m,\u001b[0m \u001b[1;34m'Sales'\u001b[0m\u001b[1;33m]\u001b[0m\u001b[1;33m,\u001b[0m \u001b[0maxis\u001b[0m\u001b[1;33m=\u001b[0m\u001b[1;36m1\u001b[0m\u001b[1;33m)\u001b[0m\u001b[1;33m\u001b[0m\u001b[1;33m\u001b[0m\u001b[0m\n\u001b[0m\u001b[0;32m      3\u001b[0m \u001b[0mseason\u001b[0m\u001b[1;33m.\u001b[0m\u001b[0mhead\u001b[0m\u001b[1;33m(\u001b[0m\u001b[1;33m)\u001b[0m\u001b[1;33m\u001b[0m\u001b[1;33m\u001b[0m\u001b[0m\n",
      "\u001b[1;31mNameError\u001b[0m: name 'train_data' is not defined"
     ]
    }
   ],
   "source": [
    "#head\n",
    "season = train_data.filter(['Date', 'Sales'], axis=1)\n",
    "season.head()"
   ]
  },
  {
   "cell_type": "code",
   "execution_count": 5,
   "id": "a73f3b22",
   "metadata": {},
   "outputs": [],
   "source": [
    "season['Date'] = season['Date'].astype('datetime64')"
   ]
  },
  {
   "cell_type": "markdown",
   "id": "83f09c3d",
   "metadata": {},
   "source": [
    "<h3>Promotion Distribution</h3>"
   ]
  },
  {
   "cell_type": "code",
   "execution_count": 6,
   "id": "65e704dd",
   "metadata": {},
   "outputs": [
    {
     "data": {
      "text/plain": [
       "<seaborn.axisgrid.FacetGrid at 0x1e2fd7076d0>"
      ]
     },
     "execution_count": 6,
     "metadata": {},
     "output_type": "execute_result"
    },
    {
     "data": {
      "image/png": "[encoded data removed]",
      "text/plain": [
       "<Figure size 360x360 with 1 Axes>"
      ]
     },
     "metadata": {
      "needs_background": "light"
     },
     "output_type": "display_data"
    }
   ],
   "source": [
    "sns.displot(train_data, x=\"Promo\", shrink=.9)"
   ]
  },
  {
   "cell_type": "code",
   "execution_count": 7,
   "id": "17451e9c",
   "metadata": {},
   "outputs": [
    {
     "data": {
      "text/plain": [
       "<seaborn.axisgrid.FacetGrid at 0x1e28cda3ee0>"
      ]
     },
     "execution_count": 7,
     "metadata": {},
     "output_type": "execute_result"
    },
    {
     "data": {
      "image/png": "[encoded data removed]",
      "text/plain": [
       "<Figure size 360x360 with 1 Axes>"
      ]
     },
     "metadata": {
      "needs_background": "light"
     },
     "output_type": "display_data"
    }
   ],
   "source": [
    "sns.displot(test_data, x=\"Promo\", shrink=.9)"
   ]
  },
  {
   "cell_type": "code",
   "execution_count": 8,
   "id": "61dd0a8e",
   "metadata": {},
   "outputs": [
    {
     "data": {
      "text/plain": [
       "<seaborn.axisgrid.FacetGrid at 0x1e2f7dc04f0>"
      ]
     },
     "execution_count": 8,
     "metadata": {},
     "output_type": "execute_result"
    },
    {
     "data": {
      "image/png": "[encoded data removed]",
      "text/plain": [
       "<Figure size 402.375x360 with 1 Axes>"
      ]
     },
     "metadata": {
      "needs_background": "light"
     },
     "output_type": "display_data"
    }
   ],
   "source": [
    "sns.catplot(x=\"StateHoliday\", hue=\"Open\", data=train_data, y=\"Sales\")"
   ]
  },
  {
   "cell_type": "markdown",
   "id": "f7d5416b",
   "metadata": {},
   "source": [
    "<p>a = public holiday, b = Easter holiday, c = Christmas, 0 = None\n",
    "There are more sales during public holidays and least sales is experienced during Cristmas holidays"
   ]
  },
  {
   "cell_type": "markdown",
   "id": "32b93d3e",
   "metadata": {},
   "source": [
    "<h3>What can you say about the correlation between sales and number of customers? "
   ]
  },
  {
   "cell_type": "code",
   "execution_count": 9,
   "id": "0aae4274",
   "metadata": {},
   "outputs": [
    {
     "data": {
      "image/png": "[encoded data removed]",
      "text/plain": [
       "<Figure size 360x360 with 2 Axes>"
      ]
     },
     "metadata": {
      "needs_background": "light"
     },
     "output_type": "display_data"
    }
   ],
   "source": [
    "#Using Pearson Correlation\n",
    "sales_cust = train_data[['Sales','Customers']]\n",
    "plt.figure(figsize=(5,5))\n",
    "cor = sales_cust.corr()\n",
    "sns.heatmap(cor, annot=True, cmap=plt.cm.Reds)\n",
    "plt.show()"
   ]
  },
  {
   "cell_type": "markdown",
   "id": "b3717291",
   "metadata": {},
   "source": [
    "<h3>There is a high correlation between sales and number of customers"
   ]
  },
  {
   "cell_type": "code",
   "execution_count": 13,
   "id": "a10d7c98",
   "metadata": {},
   "outputs": [
    {
     "name": "stdout",
     "output_type": "stream",
     "text": [
      "        Total Sales  Total Customers\n",
      "Promo                               \n",
      "0      2.685396e+09      299670992.0\n",
      "1      2.881643e+09      288631133.0\n"
     ]
    },
    {
     "data": {
      "image/png": "[encoded data removed]",
      "text/plain": [
       "<Figure size 576x576 with 1 Axes>"
      ]
     },
     "metadata": {
      "needs_background": "light"
     },
     "output_type": "display_data"
    }
   ],
   "source": [
    "promotion_data = train_data.filter(['Sales', 'Customers', 'Promo'], axis=1)\n",
    "promotion_data = promotion_data.groupby(['Promo']).agg({'Sales':['sum'], 'Customers':['sum']})\n",
    "promotion_data.columns = ['Total Sales', 'Total Customers']\n",
    "promotion_data = promotion_data.reset_index()\n",
    "promotion_data.set_index('Promo', inplace=True, drop=True)\n",
    "\n",
    "print(promotion_data)\n",
    "promotion_data.plot.bar(figsize=(8,8))\n",
    "plt.show()"
   ]
  },
  {
   "cell_type": "markdown",
   "id": "e3a0bffe",
   "metadata": {},
   "source": [
    "<h3>Trends of customer behavior during store open and closing times"
   ]
  },
  {
   "cell_type": "code",
   "execution_count": 14,
   "id": "441d0bf8",
   "metadata": {},
   "outputs": [
    {
     "data": {
      "text/html": [
       "<div>\n",
       "<style scoped>\n",
       "    .dataframe tbody tr th:only-of-type {\n",
       "        vertical-align: middle;\n",
       "    }\n",
       "\n",
       "    .dataframe tbody tr th {\n",
       "        vertical-align: top;\n",
       "    }\n",
       "\n",
       "    .dataframe thead th {\n",
       "        text-align: right;\n",
       "    }\n",
       "</style>\n",
       "<table border=\"1\" class=\"dataframe\">\n",
       "  <thead>\n",
       "    <tr style=\"text-align: right;\">\n",
       "      <th></th>\n",
       "      <th>Customers</th>\n",
       "      <th>Sales</th>\n",
       "    </tr>\n",
       "    <tr>\n",
       "      <th>Open</th>\n",
       "      <th></th>\n",
       "      <th></th>\n",
       "    </tr>\n",
       "  </thead>\n",
       "  <tbody>\n",
       "    <tr>\n",
       "      <th>0</th>\n",
       "      <td>0.0</td>\n",
       "      <td>0.000000e+00</td>\n",
       "    </tr>\n",
       "    <tr>\n",
       "      <th>1</th>\n",
       "      <td>588302125.0</td>\n",
       "      <td>5.567038e+09</td>\n",
       "    </tr>\n",
       "  </tbody>\n",
       "</table>\n",
       "</div>"
      ],
      "text/plain": [
       "        Customers         Sales\n",
       "Open                           \n",
       "0             0.0  0.000000e+00\n",
       "1     588302125.0  5.567038e+09"
      ]
     },
     "execution_count": 14,
     "metadata": {},
     "output_type": "execute_result"
    }
   ],
   "source": [
    "customer_behaviour = train_data.groupby('Open').agg({'Customers':'sum','Sales':'sum'})\n",
    "customer_behaviour.head()"
   ]
  },
  {
   "cell_type": "markdown",
   "id": "931b7c3f",
   "metadata": {},
   "source": [
    "<h3>Which stores are opened on all weekdays? How does that affect their sales on weekends? "
   ]
  },
  {
   "cell_type": "code",
   "execution_count": 15,
   "id": "f3b85ac0",
   "metadata": {},
   "outputs": [
    {
     "data": {
      "text/plain": [
       "<seaborn.axisgrid.FacetGrid at 0x1e28af21b20>"
      ]
     },
     "execution_count": 15,
     "metadata": {},
     "output_type": "execute_result"
    },
    {
     "data": {
      "image/png": "[encoded data removed]",
      "text/plain": [
       "<Figure size 402.375x360 with 1 Axes>"
      ]
     },
     "metadata": {
      "needs_background": "light"
     },
     "output_type": "display_data"
    }
   ],
   "source": [
    "sns.catplot(x=\"StoreType\", hue=\"Open\", data=train_data, kind=\"count\")"
   ]
  },
  {
   "cell_type": "code",
   "execution_count": 16,
   "id": "bb990463",
   "metadata": {},
   "outputs": [
    {
     "data": {
      "text/html": [
       "<div>\n",
       "<style scoped>\n",
       "    .dataframe tbody tr th:only-of-type {\n",
       "        vertical-align: middle;\n",
       "    }\n",
       "\n",
       "    .dataframe tbody tr th {\n",
       "        vertical-align: top;\n",
       "    }\n",
       "\n",
       "    .dataframe thead th {\n",
       "        text-align: right;\n",
       "    }\n",
       "</style>\n",
       "<table border=\"1\" class=\"dataframe\">\n",
       "  <thead>\n",
       "    <tr style=\"text-align: right;\">\n",
       "      <th></th>\n",
       "      <th>DayOfWeek</th>\n",
       "      <th>1</th>\n",
       "      <th>2</th>\n",
       "      <th>3</th>\n",
       "      <th>4</th>\n",
       "      <th>5</th>\n",
       "      <th>6</th>\n",
       "      <th>7</th>\n",
       "    </tr>\n",
       "    <tr>\n",
       "      <th>StoreType</th>\n",
       "      <th>Open</th>\n",
       "      <th></th>\n",
       "      <th></th>\n",
       "      <th></th>\n",
       "      <th></th>\n",
       "      <th></th>\n",
       "      <th></th>\n",
       "      <th></th>\n",
       "    </tr>\n",
       "  </thead>\n",
       "  <tbody>\n",
       "    <tr>\n",
       "      <th rowspan=\"2\" valign=\"top\">a</th>\n",
       "      <th>0</th>\n",
       "      <td>3881.0</td>\n",
       "      <td>890.0</td>\n",
       "      <td>2009.0</td>\n",
       "      <td>6060.0</td>\n",
       "      <td>3956.0</td>\n",
       "      <td>370.0</td>\n",
       "      <td>77384.0</td>\n",
       "    </tr>\n",
       "    <tr>\n",
       "      <th>1</th>\n",
       "      <td>74603.0</td>\n",
       "      <td>78111.0</td>\n",
       "      <td>76993.0</td>\n",
       "      <td>73026.0</td>\n",
       "      <td>75130.0</td>\n",
       "      <td>78114.0</td>\n",
       "      <td>1100.0</td>\n",
       "    </tr>\n",
       "    <tr>\n",
       "      <th rowspan=\"2\" valign=\"top\">b</th>\n",
       "      <th>0</th>\n",
       "      <td>37.0</td>\n",
       "      <td>40.0</td>\n",
       "      <td>40.0</td>\n",
       "      <td>39.0</td>\n",
       "      <td>38.0</td>\n",
       "      <td>37.0</td>\n",
       "      <td>36.0</td>\n",
       "    </tr>\n",
       "    <tr>\n",
       "      <th>1</th>\n",
       "      <td>2215.0</td>\n",
       "      <td>2228.0</td>\n",
       "      <td>2228.0</td>\n",
       "      <td>2230.0</td>\n",
       "      <td>2231.0</td>\n",
       "      <td>2215.0</td>\n",
       "      <td>2216.0</td>\n",
       "    </tr>\n",
       "    <tr>\n",
       "      <th rowspan=\"2\" valign=\"top\">c</th>\n",
       "      <th>0</th>\n",
       "      <td>1010.0</td>\n",
       "      <td>259.0</td>\n",
       "      <td>549.0</td>\n",
       "      <td>1473.0</td>\n",
       "      <td>1003.0</td>\n",
       "      <td>100.0</td>\n",
       "      <td>19468.0</td>\n",
       "    </tr>\n",
       "    <tr>\n",
       "      <th>1</th>\n",
       "      <td>18458.0</td>\n",
       "      <td>19343.0</td>\n",
       "      <td>19053.0</td>\n",
       "      <td>18143.0</td>\n",
       "      <td>18613.0</td>\n",
       "      <td>19368.0</td>\n",
       "      <td>NaN</td>\n",
       "    </tr>\n",
       "    <tr>\n",
       "      <th rowspan=\"2\" valign=\"top\">d</th>\n",
       "      <th>0</th>\n",
       "      <td>2242.0</td>\n",
       "      <td>514.0</td>\n",
       "      <td>1131.0</td>\n",
       "      <td>3629.0</td>\n",
       "      <td>2208.0</td>\n",
       "      <td>165.0</td>\n",
       "      <td>44249.0</td>\n",
       "    </tr>\n",
       "    <tr>\n",
       "      <th>1</th>\n",
       "      <td>42284.0</td>\n",
       "      <td>44279.0</td>\n",
       "      <td>43662.0</td>\n",
       "      <td>41245.0</td>\n",
       "      <td>42666.0</td>\n",
       "      <td>44361.0</td>\n",
       "      <td>277.0</td>\n",
       "    </tr>\n",
       "  </tbody>\n",
       "</table>\n",
       "</div>"
      ],
      "text/plain": [
       "DayOfWeek             1        2        3        4        5        6        7\n",
       "StoreType Open                                                               \n",
       "a         0      3881.0    890.0   2009.0   6060.0   3956.0    370.0  77384.0\n",
       "          1     74603.0  78111.0  76993.0  73026.0  75130.0  78114.0   1100.0\n",
       "b         0        37.0     40.0     40.0     39.0     38.0     37.0     36.0\n",
       "          1      2215.0   2228.0   2228.0   2230.0   2231.0   2215.0   2216.0\n",
       "c         0      1010.0    259.0    549.0   1473.0   1003.0    100.0  19468.0\n",
       "          1     18458.0  19343.0  19053.0  18143.0  18613.0  19368.0      NaN\n",
       "d         0      2242.0    514.0   1131.0   3629.0   2208.0    165.0  44249.0\n",
       "          1     42284.0  44279.0  43662.0  41245.0  42666.0  44361.0    277.0"
      ]
     },
     "execution_count": 16,
     "metadata": {},
     "output_type": "execute_result"
    }
   ],
   "source": [
    "train_data.groupby(['StoreType', 'Open', 'DayOfWeek'])['DayOfWeek'].count().unstack().head(30)"
   ]
  },
  {
   "cell_type": "markdown",
   "id": "995c63e6",
   "metadata": {},
   "source": [
    "<h3>Check how the assortment type affects sales"
   ]
  },
  {
   "cell_type": "code",
   "execution_count": 17,
   "id": "a7f997d8",
   "metadata": {},
   "outputs": [
    {
     "data": {
      "text/plain": [
       "<seaborn.axisgrid.FacetGrid at 0x1e28af21d90>"
      ]
     },
     "execution_count": 17,
     "metadata": {},
     "output_type": "execute_result"
    },
    {
     "data": {
      "image/png": "[encoded data removed]",
      "text/plain": [
       "<Figure size 360x360 with 1 Axes>"
      ]
     },
     "metadata": {
      "needs_background": "light"
     },
     "output_type": "display_data"
    }
   ],
   "source": [
    "sns.catplot(x=\"Assortment\", y=\"Sales\", data=train_data, kind=\"box\")"
   ]
  },
  {
   "cell_type": "markdown",
   "id": "54fbbd7e",
   "metadata": {},
   "source": [
    "<h3>How does the distance to the next competitor affect sales? What if the store and its competitors all happen to be in city centres, does the distance matter in that case?"
   ]
  },
  {
   "cell_type": "code",
   "execution_count": 18,
   "id": "81c0f9bd",
   "metadata": {},
   "outputs": [
    {
     "data": {
      "image/png": "[encoded data removed]",
      "text/plain": [
       "<Figure size 360x360 with 2 Axes>"
      ]
     },
     "metadata": {
      "needs_background": "light"
     },
     "output_type": "display_data"
    }
   ],
   "source": [
    "#Using Pearson Correlation\n",
    "dis_comp = train_data[['Sales','CompetitionDistance']]\n",
    "plt.figure(figsize=(5,5))\n",
    "cor = dis_comp.corr()\n",
    "sns.heatmap(cor, annot=True, cmap=plt.cm.Reds)\n",
    "plt.show()"
   ]
  },
  {
   "cell_type": "markdown",
   "id": "243ec227",
   "metadata": {},
   "source": [
    "There is no correlation between CompetitionDistance and Sales therefore there is no effect"
   ]
  },
  {
   "cell_type": "markdown",
   "id": "db470792",
   "metadata": {},
   "source": [
    "<h3>How does the opening or reopening of new competitors affect stores? Check for stores with NA as competitor distance but later on has values for competitor distance"
   ]
  },
  {
   "cell_type": "code",
   "execution_count": null,
   "id": "8ba708a6",
   "metadata": {},
   "outputs": [],
   "source": []
  },
  {
   "cell_type": "code",
   "execution_count": null,
   "id": "ae3faf56",
   "metadata": {},
   "outputs": [],
   "source": []
  }
 ],
 "metadata": {
  "kernelspec": {
   "display_name": "Python 3",
   "language": "python",
   "name": "python3"
  },
  "language_info": {
   "codemirror_mode": {
    "name": "ipython",
    "version": 3
   },
   "file_extension": ".py",
   "mimetype": "text/x-python",
   "name": "python",
   "nbconvert_exporter": "python",
   "pygments_lexer": "ipython3",
   "version": "3.8.8"
  }
 },
 "nbformat": 4,
 "nbformat_minor": 5
}
